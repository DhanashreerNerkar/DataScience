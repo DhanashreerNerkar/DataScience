{
 "cells": [
  {
   "cell_type": "markdown",
   "id": "2835fa02",
   "metadata": {},
   "source": [
    "Get Live Jobs From Google Search and save them as raw data to jobs.csv for further cleaning and processing. DONT RUN AGAIN"
   ]
  },
  {
   "cell_type": "code",
   "execution_count": null,
   "id": "9f0d8d52",
   "metadata": {},
   "outputs": [],
   "source": [
    "import csv\n",
    "import os\n",
    "import requests\n",
    "import pandas as pd\n",
    "\n",
    "# SerpAPI endpoint\n",
    "API_URL = \"https://serpapi.com/search\"\n",
    "SERPAPI_KEY = \"0b2ab1b29442c1b8003176083e190527f9695bc0de45fc16a0afad683298bb02\"\n",
    "\n",
    "PARAMS = {\n",
    "    \"engine\": \"google_jobs\",\n",
    "    \"q\": \"Data Science Intern\",\n",
    "    \"hl\": \"en\",\n",
    "    \"gl\": \"us\",\n",
    "    \"api_key\": SERPAPI_KEY,\n",
    "    \"tbs\": \"qdr:d\"\n",
    "}\n",
    "\n",
    "def fetch_google_jobs_to_csv():\n",
    "    response = requests.get(API_URL, params=PARAMS)\n",
    "    \n",
    "    if response.status_code != 200:\n",
    "        print(\"Error:\", response.status_code)\n",
    "        return\n",
    "\n",
    "    jobs = response.json().get(\"jobs_results\", [])\n",
    "    if not jobs:\n",
    "        print(\"No jobs found.\")\n",
    "        return\n",
    "\n",
    "    job_list = []\n",
    "    for job in jobs:\n",
    "        job_title = job.get(\"title\", \"N/A\")\n",
    "        company = job.get(\"company_name\", \"N/A\")\n",
    "        location = job.get(\"location\", \"N/A\")\n",
    "        job_description = job.get(\"description\", \"No description available\").replace('\\n', ' ').strip()\n",
    "        job_id = job.get(\"job_id\", \"\")\n",
    "        job_url = f\"https://www.google.com/search?q={job_id}\" if job_id else \"N/A\"\n",
    "\n",
    "        job_list.append({\n",
    "            \"Job_Title\": job_title,\n",
    "            \"Company\": company,\n",
    "            \"Location\": location,\n",
    "            \"Job_Description\": job_description,\n",
    "            \"Job_URL\": job_url\n",
    "        })\n",
    "\n",
    "    # Convert to DataFrame\n",
    "    base_path = os.path.join(\".\", \"Jobs\")\n",
    "    df = pd.DataFrame(job_list)\n",
    "    \n",
    "    # Save to CSV\n",
    "    _path = os.path.join(base_path, \"jobs.csv\")\n",
    "    df.to_csv(_path, index=False, encoding='utf-8', quoting=csv.QUOTE_ALL)\n",
    "    print(f\"Saved {len(df)} job listings to 'jobs.csv'.\")\n",
    "    \n",
    "\n",
    "# Run the function\n",
    "fetch_google_jobs_to_csv()\n"
   ]
  },
  {
   "cell_type": "markdown",
   "id": "a7a7366a",
   "metadata": {},
   "source": [
    "Check Skills required in each job"
   ]
  },
  {
   "cell_type": "code",
   "execution_count": 4,
   "id": "478a0834",
   "metadata": {},
   "outputs": [
    {
     "name": "stdout",
     "output_type": "stream",
     "text": [
      "======= Extracted Job Info =======\n",
      "Job 1\n",
      "Skills:\n",
      "LLMs via APIs,Understanding of application of dense vector,text embedding models for finding semantic similarity,NoSQL,Vector Database,Graph construction,AWS,Azure,Python,Data visualization,matplotlib,plotly,Power BI,Infrastructure as code.\n",
      "\n",
      "Responsibilities:\n",
      "Collaborate with cross-functional teams to identify business challenges and opportunities where data science can provide valuable insights,Assist in developing and implementing advanced analytical models and methodologies to analyze complex data sets Support data visualization efforts to effectively communicate insights to stakeholders,Conduct data analysis and provide actionable recommendations based on data-driven insights,Stay updated with the latest trends and advancements in data science and identify opportunities to leverage new tools and technologies.\n",
      "\n",
      "Qualifications:\n",
      "Currently pursuing a degree in Data Science, Computer Science, Statistics, or a related fieldStrong analytical and problem-solving skills.Familiarity with data analysis and visualization tools,Must graduate December 2025 or later,Must continue enrollment in degree program upon completion of the Co-op Validated academic excellence (3.0 GPA and higher).\n",
      "\n",
      "--------------------------------------------------------------------------------\n",
      "Job 2\n",
      "Skills:\n",
      "Machine Learning, Deep Learning,Python,SQL,mathematics,English,presentation,documentation.\n",
      "\n",
      "Responsibilities:\n",
      "implement the next generation of Machine Learning technology to take advantage of the hundreds of millions of data events we receive every day,suggest solutions to the problematics inherently linked to the online advertising ecosystem with a priority on affiliate advertising,willingness to understand inner-workings of the business to the use of the latest technologies on topics that range from forecasting to recommendation systems,anomaly detection to regression all with the purpose of solidifying Rakuten as a leader in online advertising,Explore both existing and latest Machine Learning and Deep Learning methods to build and improve our in-house models,Mine internal advertising datasets and perform practical statistical analysis to identify new relevant indicators and business trends,Collaborate for product requirements to maximize customer satisfaction with Software Engineers to deploy scalable/monitored models while maintaining a clean codebase,effectively communicate your analysis and findings through interactive visualizations,documents,presentations.\n",
      "\n",
      "Qualifications:\n",
      "degree in progress.\n",
      "\n",
      "--------------------------------------------------------------------------------\n",
      "Job 3\n",
      "Skills:\n",
      "none.\n",
      "\n",
      "Responsibilities:\n",
      "use satellite imagery and other sources of information to answer complex questions about the world.\n",
      "\n",
      "Qualifications:\n",
      "None\n",
      "\n",
      "--------------------------------------------------------------------------------\n",
      "Job 4\n",
      "Skills:\n",
      "MS excel,pivot tables, Database,Access,SQL,Tableau,comparable,data analytics tools.\n",
      "\n",
      "Responsibilities:\n",
      "data analysis,data mining,reporting,continuous process improvement capabilities,envisioning,executing strategies,critical thinker,understand operational efficiency,organize,report,analyze large amounts of data.\n",
      "\n",
      "Qualifications:\n",
      "Experienced,Sophomore,Junior, Bachelor,Masters Degree, ComputerScience,Management Information Systems (MIS),Business Analytics,Business and Technology,Data Science or relatable degree.\n",
      "\n",
      "--------------------------------------------------------------------------------\n",
      "Job 5\n",
      "Skills:\n",
      "building marketing models,regression analysis,anomaly detection,NLP,machine learning modeling,decision tree, clustering,ensemble,boosting methods,feature selection,SQL,Python,pandas,numpy, scikit-learn,keras,R ,developing data pipelines,Python-based ETL framework,run workflows,analyse requirements,project roadmap to ensure consistent data availability,data quality,data accessibility,Conceive and implement the design of end-to-end scripted analytics solutions using SQL,modern analytical system,Snowflake,GitHub,AWS,Jupyter Notebooks.\n",
      "\n",
      "Responsibilities:\n",
      "data analysis,serve insights with strategic implications,work with Machine Learning,Big Data technologies,build scalable machine learning data solutions for our marketing and sales team,work cross-functionally with internal and external stakeholders,identify insight requirements,apply creativity to test hypotheses,prepare data,build models,analyze,visualize results,integrate the solution into innovative ways to meet and optimize marketing ROI,Enhance the current customer model as additional data points become available through iterative improvements and Martech initiatives,Design and evaluate conversion lift experiments to optimize campaigns and measure their incremental impact,Expand market and sales model that drive personalization for customer engagement on owned and paid marketing channels by mapping out our buyers journey.\n",
      "\n",
      "Qualifications:\n",
      "BA,MSc,Data Science,Business Analytics,Computer Science,Math, Statistics,Economics, quantitative fields,Masters.\n",
      "\n",
      "--------------------------------------------------------------------------------\n",
      "Job 6\n",
      "Skills:\n",
      "data analysi,statistical techniques,data visualization tools,Tableau, Power BI,Microsoft Excel,database management and querying languages,SQL.\n",
      "\n",
      "Responsibilities:\n",
      "collecting data,cleaning data,organizing,analyzing data,interpreting data,inform program improvement,collecting,cleaning data,Conducting preliminary data analysis,identify trends and patterns,Supporting  creation of data visualizations and dashboards,present findings,Collaborating to develop data-driven insights for program improvement,Maintaining data integrity and accuracy,perform regular checks and updates,Contributing to the preparation of reports and presentations for stakeholders,Assisting in developing and documenting data processes and methodologies,contributing to data strategy,supporting the implementation of data collection tools,Conducting research on best practices and innovations in data analysis for non-profits  requirements.\n",
      "\n",
      "Qualifications:\n",
      "Bachelors,Masters,Data Science,Statistics,Computer Science,Economics or a related field.\n",
      "\n",
      "--------------------------------------------------------------------------------\n",
      "Job 7\n",
      "Skills:\n",
      "None.\n",
      "\n",
      "Responsibilities:\n",
      "implement quantitative analytics models,maintain complex statistical models,Collaborate with data scientists to design and implement machine learning algorithms,understand their needs,develop solutions.\n",
      "\n",
      "Qualifications:\n",
      "None\n",
      "\n",
      "--------------------------------------------------------------------------------\n",
      "Job 8\n",
      "Skills:\n",
      "data science,data analytics,statistical analysis ,thermodynamics,thermal systems.\n",
      "\n",
      "Responsibilities:\n",
      "development and deployment of cloud-based analytic models,emphasizes innovation in data science,AI and ML technologies to ensure high-performance products and features,Gather requirements,translate into functional milestones to measure progress,Develop,test,validate,deploy cloud-based analytics workload,Evaluate analytic models for various use cases,deliver best KPI metrics,Tune,optimize data-driven models to provide best results and system performance, Design methods and criteria with which to test and validate analytic models,Visualize analytic results,Communicate analytic results.\n",
      "\n",
      "Qualifications:\n",
      "Bachelor in Engineering,Data Analytics Engineering,Data Science.\n",
      "\n",
      "--------------------------------------------------------------------------------\n",
      "Job 9\n",
      "Skills:\n",
      "data science.\n",
      "\n",
      "Responsibilities:\n",
      "researching and developing new technologies and concepts,designing and testing software,components or integrated systems,developing models and performing data analysis,supporting operations and developing process controls and procedures,working on deliverables that have a direct impact on the Navyal nuclear fleet.\n",
      "\n",
      "Qualifications:\n",
      "Data Science,Computer Science,related engineering,BS,MS,PhD.\n",
      "\n",
      "--------------------------------------------------------------------------------\n",
      "Job 10\n",
      "Skills:\n",
      "None.\n",
      "\n",
      "Responsibilities:\n",
      "Provide administrative support to project and operations management,researching,identifying,anticipating,and meetings needs of all departments,Perform routine administrative functions,including daily support of office administration,calendar management,meeting logistics,Assist in identifying new ways to improve data usage and business outcomes,Work on assignments that are moderately difficult and escalate issues to management,Assist with ad-hoc reporting, performing data analysis based upon planned versus historical or trending data. analyzing target metrics,present strategic planning.\n",
      "\n",
      "Qualifications:\n",
      "Bachelors, preferred completion of relevant coursework in data science,data analysis,computational math,statistics,data visualization,information systems.\n",
      "\n",
      "--------------------------------------------------------------------------------\n"
     ]
    }
   ],
   "source": [
    "import pandas as pd\n",
    "import re\n",
    "\n",
    "# Load job descriptions\n",
    "df = pd.read_csv(\"jobs.csv\")\n",
    "df[\"Job_Description\"] = df[\"Job_Description\"].astype(str)\n",
    "\n",
    "# Initialize lists to store extracted components\n",
    "all_skills = []\n",
    "all_responsibilities = []\n",
    "all_qualifications = []\n",
    "\n",
    "# Regular expression based parsing for each job description\n",
    "for desc in df[\"Job_Description\"]:\n",
    "    # Extract responsibilities\n",
    "    responsibilities_match = re.search(r\"RESPONSIBILITIES:(.*?)(?:MINIMUM QUALIFICATIONS:|QUALIFICATIONS:|SKILLS:|LOCATION:|PAY:|APPLICATION DEADLINE:|JOB ID:|$)\", desc, re.IGNORECASE | re.DOTALL)\n",
    "    responsibilities = responsibilities_match.group(1).strip() if responsibilities_match else \"\"\n",
    "\n",
    "    # Extract qualifications\n",
    "    qualifications_match = re.search(r\"(?:MINIMUM QUALIFICATIONS:|QUALIFICATIONS:)(.*?)(?:SKILLS:|RESPONSIBILITIES:|LOCATION:|PAY:|APPLICATION DEADLINE:|JOB ID:|$)\", desc, re.IGNORECASE | re.DOTALL)\n",
    "    qualifications = qualifications_match.group(1).strip() if qualifications_match else \"\"\n",
    "\n",
    "    # Extract skills\n",
    "    skills_match = re.search(r\"SKILLS\\s*:\\s*(.*?\\.)(?=QUALIFICATIONS:|RESPONSIBILITIES:|LOCATION:|PAY:|APPLICATION DEADLINE:|JOB ID:|$)\", desc, re.IGNORECASE | re.DOTALL)\n",
    "    skills = skills_match.group(1).strip() if skills_match else \"\"\n",
    "\n",
    "\n",
    "    # Append results to lists\n",
    "    all_skills.append(skills)\n",
    "    all_responsibilities.append(responsibilities)\n",
    "    all_qualifications.append(qualifications)\n",
    "\n",
    "# Create extracted DataFrame\n",
    "extracted_data = pd.DataFrame({\n",
    "    \"Skills\": all_skills,\n",
    "    \"Responsibilities\": all_responsibilities,\n",
    "    \"Qualifications\": all_qualifications\n",
    "})\n",
    "\n",
    "# ----------- PRINT OUTPUT ----------\n",
    "print(\"======= Extracted Job Info =======\")\n",
    "for i in range(len(extracted_data)):\n",
    "    print(f\"Job {i+1}\")\n",
    "    print(\"Skills:\")\n",
    "    print(extracted_data.loc[i, 'Skills'] or \"  - Not specified\")\n",
    "\n",
    "    print(\"\\nResponsibilities:\")\n",
    "    print(extracted_data.loc[i, 'Responsibilities'] or \"  - Not specified\")\n",
    "\n",
    "    print(\"\\nQualifications:\")\n",
    "    print(extracted_data.loc[i, 'Qualifications'] or \"  - Not specified\")\n",
    "\n",
    "    print(\"\\n\" + \"-\" * 80)\n"
   ]
  },
  {
   "cell_type": "code",
   "execution_count": 7,
   "id": "81d18e25",
   "metadata": {},
   "outputs": [
    {
     "data": {
      "application/vnd.plotly.v1+json": {
       "config": {
        "plotlyServerURL": "https://plot.ly"
       },
       "data": [
        {
         "alignmentgroup": "True",
         "customdata": [
          [
           "Job 1"
          ],
          [
           "Job 1"
          ],
          [
           "Job 1"
          ],
          [
           "Job 1"
          ],
          [
           "Job 1"
          ],
          [
           "Job 1"
          ],
          [
           "Job 1"
          ],
          [
           "Job 1"
          ],
          [
           "Job 1"
          ],
          [
           "Job 1"
          ],
          [
           "Job 1"
          ],
          [
           "Job 1"
          ],
          [
           "Job 1"
          ],
          [
           "Job 1"
          ]
         ],
         "hovertemplate": "Job=%{customdata[0]}<br>Skill=%{x}<br>Frequency=%{y}<extra></extra>",
         "legendgroup": "Job 1",
         "marker": {
          "color": "#636efa",
          "pattern": {
           "shape": ""
          }
         },
         "name": "Job 1",
         "offsetgroup": "Job 1",
         "orientation": "v",
         "showlegend": true,
         "textposition": "auto",
         "type": "bar",
         "x": [
          "llms via apis",
          "understanding of application of dense vector",
          "text embedding models for finding semantic similarity",
          "nosql",
          "vector database",
          "graph construction",
          "aws",
          "azure",
          "python",
          "data visualization",
          "matplotlib",
          "plotly",
          "power bi",
          "infrastructure as code"
         ],
         "xaxis": "x",
         "y": {
          "bdata": "AQEBAQEBAQEBAQEBAQE=",
          "dtype": "i1"
         },
         "yaxis": "y"
        },
        {
         "alignmentgroup": "True",
         "customdata": [
          [
           "Job 2"
          ],
          [
           "Job 2"
          ],
          [
           "Job 2"
          ],
          [
           "Job 2"
          ],
          [
           "Job 2"
          ],
          [
           "Job 2"
          ],
          [
           "Job 2"
          ],
          [
           "Job 2"
          ]
         ],
         "hovertemplate": "Job=%{customdata[0]}<br>Skill=%{x}<br>Frequency=%{y}<extra></extra>",
         "legendgroup": "Job 2",
         "marker": {
          "color": "#EF553B",
          "pattern": {
           "shape": ""
          }
         },
         "name": "Job 2",
         "offsetgroup": "Job 2",
         "orientation": "v",
         "showlegend": true,
         "textposition": "auto",
         "type": "bar",
         "x": [
          "machine learning",
          "deep learning",
          "python",
          "sql",
          "mathematics",
          "english",
          "presentation",
          "documentation"
         ],
         "xaxis": "x",
         "y": {
          "bdata": "AQEBAQEBAQE=",
          "dtype": "i1"
         },
         "yaxis": "y"
        },
        {
         "alignmentgroup": "True",
         "customdata": [
          [
           "Job 3"
          ]
         ],
         "hovertemplate": "Job=%{customdata[0]}<br>Skill=%{x}<br>Frequency=%{y}<extra></extra>",
         "legendgroup": "Job 3",
         "marker": {
          "color": "#00cc96",
          "pattern": {
           "shape": ""
          }
         },
         "name": "Job 3",
         "offsetgroup": "Job 3",
         "orientation": "v",
         "showlegend": true,
         "textposition": "auto",
         "type": "bar",
         "x": [
          "none"
         ],
         "xaxis": "x",
         "y": {
          "bdata": "AQ==",
          "dtype": "i1"
         },
         "yaxis": "y"
        },
        {
         "alignmentgroup": "True",
         "customdata": [
          [
           "Job 4"
          ],
          [
           "Job 4"
          ],
          [
           "Job 4"
          ],
          [
           "Job 4"
          ],
          [
           "Job 4"
          ],
          [
           "Job 4"
          ],
          [
           "Job 4"
          ],
          [
           "Job 4"
          ]
         ],
         "hovertemplate": "Job=%{customdata[0]}<br>Skill=%{x}<br>Frequency=%{y}<extra></extra>",
         "legendgroup": "Job 4",
         "marker": {
          "color": "#ab63fa",
          "pattern": {
           "shape": ""
          }
         },
         "name": "Job 4",
         "offsetgroup": "Job 4",
         "orientation": "v",
         "showlegend": true,
         "textposition": "auto",
         "type": "bar",
         "x": [
          "ms excel",
          "pivot tables",
          "database",
          "access",
          "sql",
          "tableau",
          "comparable",
          "data analytics tools"
         ],
         "xaxis": "x",
         "y": {
          "bdata": "AQEBAQEBAQE=",
          "dtype": "i1"
         },
         "yaxis": "y"
        },
        {
         "alignmentgroup": "True",
         "customdata": [
          [
           "Job 5"
          ],
          [
           "Job 5"
          ],
          [
           "Job 5"
          ],
          [
           "Job 5"
          ],
          [
           "Job 5"
          ],
          [
           "Job 5"
          ],
          [
           "Job 5"
          ],
          [
           "Job 5"
          ],
          [
           "Job 5"
          ],
          [
           "Job 5"
          ],
          [
           "Job 5"
          ],
          [
           "Job 5"
          ],
          [
           "Job 5"
          ],
          [
           "Job 5"
          ],
          [
           "Job 5"
          ],
          [
           "Job 5"
          ],
          [
           "Job 5"
          ],
          [
           "Job 5"
          ],
          [
           "Job 5"
          ],
          [
           "Job 5"
          ],
          [
           "Job 5"
          ],
          [
           "Job 5"
          ],
          [
           "Job 5"
          ],
          [
           "Job 5"
          ],
          [
           "Job 5"
          ],
          [
           "Job 5"
          ],
          [
           "Job 5"
          ],
          [
           "Job 5"
          ],
          [
           "Job 5"
          ],
          [
           "Job 5"
          ]
         ],
         "hovertemplate": "Job=%{customdata[0]}<br>Skill=%{x}<br>Frequency=%{y}<extra></extra>",
         "legendgroup": "Job 5",
         "marker": {
          "color": "#FFA15A",
          "pattern": {
           "shape": ""
          }
         },
         "name": "Job 5",
         "offsetgroup": "Job 5",
         "orientation": "v",
         "showlegend": true,
         "textposition": "auto",
         "type": "bar",
         "x": [
          "building marketing models",
          "regression analysis",
          "anomaly detection",
          "nlp",
          "machine learning modeling",
          "decision tree",
          "clustering",
          "ensemble",
          "boosting methods",
          "feature selection",
          "sql",
          "python",
          "pandas",
          "numpy",
          "scikit-learn",
          "keras",
          "r",
          "developing data pipelines",
          "python-based etl framework",
          "run workflows",
          "analyse requirements",
          "project roadmap to ensure consistent data availability",
          "data quality",
          "data accessibility",
          "conceive and implement the design of end-to-end scripted analytics solutions using sql",
          "modern analytical system",
          "snowflake",
          "github",
          "aws",
          "jupyter notebooks"
         ],
         "xaxis": "x",
         "y": {
          "bdata": "AQEBAQEBAQEBAQEBAQEBAQEBAQEBAQEBAQEBAQEB",
          "dtype": "i1"
         },
         "yaxis": "y"
        },
        {
         "alignmentgroup": "True",
         "customdata": [
          [
           "Job 6"
          ],
          [
           "Job 6"
          ],
          [
           "Job 6"
          ],
          [
           "Job 6"
          ],
          [
           "Job 6"
          ],
          [
           "Job 6"
          ],
          [
           "Job 6"
          ],
          [
           "Job 6"
          ]
         ],
         "hovertemplate": "Job=%{customdata[0]}<br>Skill=%{x}<br>Frequency=%{y}<extra></extra>",
         "legendgroup": "Job 6",
         "marker": {
          "color": "#19d3f3",
          "pattern": {
           "shape": ""
          }
         },
         "name": "Job 6",
         "offsetgroup": "Job 6",
         "orientation": "v",
         "showlegend": true,
         "textposition": "auto",
         "type": "bar",
         "x": [
          "data analysi",
          "statistical techniques",
          "data visualization tools",
          "tableau",
          "power bi",
          "microsoft excel",
          "database management and querying languages",
          "sql"
         ],
         "xaxis": "x",
         "y": {
          "bdata": "AQEBAQEBAQE=",
          "dtype": "i1"
         },
         "yaxis": "y"
        },
        {
         "alignmentgroup": "True",
         "customdata": [
          [
           "Job 7"
          ]
         ],
         "hovertemplate": "Job=%{customdata[0]}<br>Skill=%{x}<br>Frequency=%{y}<extra></extra>",
         "legendgroup": "Job 7",
         "marker": {
          "color": "#FF6692",
          "pattern": {
           "shape": ""
          }
         },
         "name": "Job 7",
         "offsetgroup": "Job 7",
         "orientation": "v",
         "showlegend": true,
         "textposition": "auto",
         "type": "bar",
         "x": [
          "none"
         ],
         "xaxis": "x",
         "y": {
          "bdata": "AQ==",
          "dtype": "i1"
         },
         "yaxis": "y"
        },
        {
         "alignmentgroup": "True",
         "customdata": [
          [
           "Job 8"
          ],
          [
           "Job 8"
          ],
          [
           "Job 8"
          ],
          [
           "Job 8"
          ],
          [
           "Job 8"
          ]
         ],
         "hovertemplate": "Job=%{customdata[0]}<br>Skill=%{x}<br>Frequency=%{y}<extra></extra>",
         "legendgroup": "Job 8",
         "marker": {
          "color": "#B6E880",
          "pattern": {
           "shape": ""
          }
         },
         "name": "Job 8",
         "offsetgroup": "Job 8",
         "orientation": "v",
         "showlegend": true,
         "textposition": "auto",
         "type": "bar",
         "x": [
          "data science",
          "data analytics",
          "statistical analysis",
          "thermodynamics",
          "thermal systems"
         ],
         "xaxis": "x",
         "y": {
          "bdata": "AQEBAQE=",
          "dtype": "i1"
         },
         "yaxis": "y"
        },
        {
         "alignmentgroup": "True",
         "customdata": [
          [
           "Job 9"
          ]
         ],
         "hovertemplate": "Job=%{customdata[0]}<br>Skill=%{x}<br>Frequency=%{y}<extra></extra>",
         "legendgroup": "Job 9",
         "marker": {
          "color": "#FF97FF",
          "pattern": {
           "shape": ""
          }
         },
         "name": "Job 9",
         "offsetgroup": "Job 9",
         "orientation": "v",
         "showlegend": true,
         "textposition": "auto",
         "type": "bar",
         "x": [
          "data science"
         ],
         "xaxis": "x",
         "y": {
          "bdata": "AQ==",
          "dtype": "i1"
         },
         "yaxis": "y"
        },
        {
         "alignmentgroup": "True",
         "customdata": [
          [
           "Job 10"
          ]
         ],
         "hovertemplate": "Job=%{customdata[0]}<br>Skill=%{x}<br>Frequency=%{y}<extra></extra>",
         "legendgroup": "Job 10",
         "marker": {
          "color": "#FECB52",
          "pattern": {
           "shape": ""
          }
         },
         "name": "Job 10",
         "offsetgroup": "Job 10",
         "orientation": "v",
         "showlegend": true,
         "textposition": "auto",
         "type": "bar",
         "x": [
          "none"
         ],
         "xaxis": "x",
         "y": {
          "bdata": "AQ==",
          "dtype": "i1"
         },
         "yaxis": "y"
        }
       ],
       "layout": {
        "barmode": "group",
        "height": 600,
        "legend": {
         "title": {
          "text": "Job"
         },
         "tracegroupgap": 0
        },
        "template": {
         "data": {
          "bar": [
           {
            "error_x": {
             "color": "#2a3f5f"
            },
            "error_y": {
             "color": "#2a3f5f"
            },
            "marker": {
             "line": {
              "color": "#E5ECF6",
              "width": 0.5
             },
             "pattern": {
              "fillmode": "overlay",
              "size": 10,
              "solidity": 0.2
             }
            },
            "type": "bar"
           }
          ],
          "barpolar": [
           {
            "marker": {
             "line": {
              "color": "#E5ECF6",
              "width": 0.5
             },
             "pattern": {
              "fillmode": "overlay",
              "size": 10,
              "solidity": 0.2
             }
            },
            "type": "barpolar"
           }
          ],
          "carpet": [
           {
            "aaxis": {
             "endlinecolor": "#2a3f5f",
             "gridcolor": "white",
             "linecolor": "white",
             "minorgridcolor": "white",
             "startlinecolor": "#2a3f5f"
            },
            "baxis": {
             "endlinecolor": "#2a3f5f",
             "gridcolor": "white",
             "linecolor": "white",
             "minorgridcolor": "white",
             "startlinecolor": "#2a3f5f"
            },
            "type": "carpet"
           }
          ],
          "choropleth": [
           {
            "colorbar": {
             "outlinewidth": 0,
             "ticks": ""
            },
            "type": "choropleth"
           }
          ],
          "contour": [
           {
            "colorbar": {
             "outlinewidth": 0,
             "ticks": ""
            },
            "colorscale": [
             [
              0,
              "#0d0887"
             ],
             [
              0.1111111111111111,
              "#46039f"
             ],
             [
              0.2222222222222222,
              "#7201a8"
             ],
             [
              0.3333333333333333,
              "#9c179e"
             ],
             [
              0.4444444444444444,
              "#bd3786"
             ],
             [
              0.5555555555555556,
              "#d8576b"
             ],
             [
              0.6666666666666666,
              "#ed7953"
             ],
             [
              0.7777777777777778,
              "#fb9f3a"
             ],
             [
              0.8888888888888888,
              "#fdca26"
             ],
             [
              1,
              "#f0f921"
             ]
            ],
            "type": "contour"
           }
          ],
          "contourcarpet": [
           {
            "colorbar": {
             "outlinewidth": 0,
             "ticks": ""
            },
            "type": "contourcarpet"
           }
          ],
          "heatmap": [
           {
            "colorbar": {
             "outlinewidth": 0,
             "ticks": ""
            },
            "colorscale": [
             [
              0,
              "#0d0887"
             ],
             [
              0.1111111111111111,
              "#46039f"
             ],
             [
              0.2222222222222222,
              "#7201a8"
             ],
             [
              0.3333333333333333,
              "#9c179e"
             ],
             [
              0.4444444444444444,
              "#bd3786"
             ],
             [
              0.5555555555555556,
              "#d8576b"
             ],
             [
              0.6666666666666666,
              "#ed7953"
             ],
             [
              0.7777777777777778,
              "#fb9f3a"
             ],
             [
              0.8888888888888888,
              "#fdca26"
             ],
             [
              1,
              "#f0f921"
             ]
            ],
            "type": "heatmap"
           }
          ],
          "histogram": [
           {
            "marker": {
             "pattern": {
              "fillmode": "overlay",
              "size": 10,
              "solidity": 0.2
             }
            },
            "type": "histogram"
           }
          ],
          "histogram2d": [
           {
            "colorbar": {
             "outlinewidth": 0,
             "ticks": ""
            },
            "colorscale": [
             [
              0,
              "#0d0887"
             ],
             [
              0.1111111111111111,
              "#46039f"
             ],
             [
              0.2222222222222222,
              "#7201a8"
             ],
             [
              0.3333333333333333,
              "#9c179e"
             ],
             [
              0.4444444444444444,
              "#bd3786"
             ],
             [
              0.5555555555555556,
              "#d8576b"
             ],
             [
              0.6666666666666666,
              "#ed7953"
             ],
             [
              0.7777777777777778,
              "#fb9f3a"
             ],
             [
              0.8888888888888888,
              "#fdca26"
             ],
             [
              1,
              "#f0f921"
             ]
            ],
            "type": "histogram2d"
           }
          ],
          "histogram2dcontour": [
           {
            "colorbar": {
             "outlinewidth": 0,
             "ticks": ""
            },
            "colorscale": [
             [
              0,
              "#0d0887"
             ],
             [
              0.1111111111111111,
              "#46039f"
             ],
             [
              0.2222222222222222,
              "#7201a8"
             ],
             [
              0.3333333333333333,
              "#9c179e"
             ],
             [
              0.4444444444444444,
              "#bd3786"
             ],
             [
              0.5555555555555556,
              "#d8576b"
             ],
             [
              0.6666666666666666,
              "#ed7953"
             ],
             [
              0.7777777777777778,
              "#fb9f3a"
             ],
             [
              0.8888888888888888,
              "#fdca26"
             ],
             [
              1,
              "#f0f921"
             ]
            ],
            "type": "histogram2dcontour"
           }
          ],
          "mesh3d": [
           {
            "colorbar": {
             "outlinewidth": 0,
             "ticks": ""
            },
            "type": "mesh3d"
           }
          ],
          "parcoords": [
           {
            "line": {
             "colorbar": {
              "outlinewidth": 0,
              "ticks": ""
             }
            },
            "type": "parcoords"
           }
          ],
          "pie": [
           {
            "automargin": true,
            "type": "pie"
           }
          ],
          "scatter": [
           {
            "fillpattern": {
             "fillmode": "overlay",
             "size": 10,
             "solidity": 0.2
            },
            "type": "scatter"
           }
          ],
          "scatter3d": [
           {
            "line": {
             "colorbar": {
              "outlinewidth": 0,
              "ticks": ""
             }
            },
            "marker": {
             "colorbar": {
              "outlinewidth": 0,
              "ticks": ""
             }
            },
            "type": "scatter3d"
           }
          ],
          "scattercarpet": [
           {
            "marker": {
             "colorbar": {
              "outlinewidth": 0,
              "ticks": ""
             }
            },
            "type": "scattercarpet"
           }
          ],
          "scattergeo": [
           {
            "marker": {
             "colorbar": {
              "outlinewidth": 0,
              "ticks": ""
             }
            },
            "type": "scattergeo"
           }
          ],
          "scattergl": [
           {
            "marker": {
             "colorbar": {
              "outlinewidth": 0,
              "ticks": ""
             }
            },
            "type": "scattergl"
           }
          ],
          "scattermap": [
           {
            "marker": {
             "colorbar": {
              "outlinewidth": 0,
              "ticks": ""
             }
            },
            "type": "scattermap"
           }
          ],
          "scattermapbox": [
           {
            "marker": {
             "colorbar": {
              "outlinewidth": 0,
              "ticks": ""
             }
            },
            "type": "scattermapbox"
           }
          ],
          "scatterpolar": [
           {
            "marker": {
             "colorbar": {
              "outlinewidth": 0,
              "ticks": ""
             }
            },
            "type": "scatterpolar"
           }
          ],
          "scatterpolargl": [
           {
            "marker": {
             "colorbar": {
              "outlinewidth": 0,
              "ticks": ""
             }
            },
            "type": "scatterpolargl"
           }
          ],
          "scatterternary": [
           {
            "marker": {
             "colorbar": {
              "outlinewidth": 0,
              "ticks": ""
             }
            },
            "type": "scatterternary"
           }
          ],
          "surface": [
           {
            "colorbar": {
             "outlinewidth": 0,
             "ticks": ""
            },
            "colorscale": [
             [
              0,
              "#0d0887"
             ],
             [
              0.1111111111111111,
              "#46039f"
             ],
             [
              0.2222222222222222,
              "#7201a8"
             ],
             [
              0.3333333333333333,
              "#9c179e"
             ],
             [
              0.4444444444444444,
              "#bd3786"
             ],
             [
              0.5555555555555556,
              "#d8576b"
             ],
             [
              0.6666666666666666,
              "#ed7953"
             ],
             [
              0.7777777777777778,
              "#fb9f3a"
             ],
             [
              0.8888888888888888,
              "#fdca26"
             ],
             [
              1,
              "#f0f921"
             ]
            ],
            "type": "surface"
           }
          ],
          "table": [
           {
            "cells": {
             "fill": {
              "color": "#EBF0F8"
             },
             "line": {
              "color": "white"
             }
            },
            "header": {
             "fill": {
              "color": "#C8D4E3"
             },
             "line": {
              "color": "white"
             }
            },
            "type": "table"
           }
          ]
         },
         "layout": {
          "annotationdefaults": {
           "arrowcolor": "#2a3f5f",
           "arrowhead": 0,
           "arrowwidth": 1
          },
          "autotypenumbers": "strict",
          "coloraxis": {
           "colorbar": {
            "outlinewidth": 0,
            "ticks": ""
           }
          },
          "colorscale": {
           "diverging": [
            [
             0,
             "#8e0152"
            ],
            [
             0.1,
             "#c51b7d"
            ],
            [
             0.2,
             "#de77ae"
            ],
            [
             0.3,
             "#f1b6da"
            ],
            [
             0.4,
             "#fde0ef"
            ],
            [
             0.5,
             "#f7f7f7"
            ],
            [
             0.6,
             "#e6f5d0"
            ],
            [
             0.7,
             "#b8e186"
            ],
            [
             0.8,
             "#7fbc41"
            ],
            [
             0.9,
             "#4d9221"
            ],
            [
             1,
             "#276419"
            ]
           ],
           "sequential": [
            [
             0,
             "#0d0887"
            ],
            [
             0.1111111111111111,
             "#46039f"
            ],
            [
             0.2222222222222222,
             "#7201a8"
            ],
            [
             0.3333333333333333,
             "#9c179e"
            ],
            [
             0.4444444444444444,
             "#bd3786"
            ],
            [
             0.5555555555555556,
             "#d8576b"
            ],
            [
             0.6666666666666666,
             "#ed7953"
            ],
            [
             0.7777777777777778,
             "#fb9f3a"
            ],
            [
             0.8888888888888888,
             "#fdca26"
            ],
            [
             1,
             "#f0f921"
            ]
           ],
           "sequentialminus": [
            [
             0,
             "#0d0887"
            ],
            [
             0.1111111111111111,
             "#46039f"
            ],
            [
             0.2222222222222222,
             "#7201a8"
            ],
            [
             0.3333333333333333,
             "#9c179e"
            ],
            [
             0.4444444444444444,
             "#bd3786"
            ],
            [
             0.5555555555555556,
             "#d8576b"
            ],
            [
             0.6666666666666666,
             "#ed7953"
            ],
            [
             0.7777777777777778,
             "#fb9f3a"
            ],
            [
             0.8888888888888888,
             "#fdca26"
            ],
            [
             1,
             "#f0f921"
            ]
           ]
          },
          "colorway": [
           "#636efa",
           "#EF553B",
           "#00cc96",
           "#ab63fa",
           "#FFA15A",
           "#19d3f3",
           "#FF6692",
           "#B6E880",
           "#FF97FF",
           "#FECB52"
          ],
          "font": {
           "color": "#2a3f5f"
          },
          "geo": {
           "bgcolor": "white",
           "lakecolor": "white",
           "landcolor": "#E5ECF6",
           "showlakes": true,
           "showland": true,
           "subunitcolor": "white"
          },
          "hoverlabel": {
           "align": "left"
          },
          "hovermode": "closest",
          "mapbox": {
           "style": "light"
          },
          "paper_bgcolor": "white",
          "plot_bgcolor": "#E5ECF6",
          "polar": {
           "angularaxis": {
            "gridcolor": "white",
            "linecolor": "white",
            "ticks": ""
           },
           "bgcolor": "#E5ECF6",
           "radialaxis": {
            "gridcolor": "white",
            "linecolor": "white",
            "ticks": ""
           }
          },
          "scene": {
           "xaxis": {
            "backgroundcolor": "#E5ECF6",
            "gridcolor": "white",
            "gridwidth": 2,
            "linecolor": "white",
            "showbackground": true,
            "ticks": "",
            "zerolinecolor": "white"
           },
           "yaxis": {
            "backgroundcolor": "#E5ECF6",
            "gridcolor": "white",
            "gridwidth": 2,
            "linecolor": "white",
            "showbackground": true,
            "ticks": "",
            "zerolinecolor": "white"
           },
           "zaxis": {
            "backgroundcolor": "#E5ECF6",
            "gridcolor": "white",
            "gridwidth": 2,
            "linecolor": "white",
            "showbackground": true,
            "ticks": "",
            "zerolinecolor": "white"
           }
          },
          "shapedefaults": {
           "line": {
            "color": "#2a3f5f"
           }
          },
          "ternary": {
           "aaxis": {
            "gridcolor": "white",
            "linecolor": "white",
            "ticks": ""
           },
           "baxis": {
            "gridcolor": "white",
            "linecolor": "white",
            "ticks": ""
           },
           "bgcolor": "#E5ECF6",
           "caxis": {
            "gridcolor": "white",
            "linecolor": "white",
            "ticks": ""
           }
          },
          "title": {
           "x": 0.05
          },
          "xaxis": {
           "automargin": true,
           "gridcolor": "white",
           "linecolor": "white",
           "ticks": "",
           "title": {
            "standoff": 15
           },
           "zerolinecolor": "white",
           "zerolinewidth": 2
          },
          "yaxis": {
           "automargin": true,
           "gridcolor": "white",
           "linecolor": "white",
           "ticks": "",
           "title": {
            "standoff": 15
           },
           "zerolinecolor": "white",
           "zerolinewidth": 2
          }
         }
        },
        "title": {
         "text": "Skill Frequency per Job (Extracted from CSV)"
        },
        "xaxis": {
         "anchor": "y",
         "domain": [
          0,
          1
         ],
         "tickangle": 45,
         "title": {
          "text": "Skill"
         }
        },
        "yaxis": {
         "anchor": "x",
         "domain": [
          0,
          1
         ],
         "title": {
          "text": "Frequency"
         }
        }
       }
      }
     },
     "metadata": {},
     "output_type": "display_data"
    }
   ],
   "source": [
    "import pandas as pd\n",
    "import re\n",
    "from collections import Counter\n",
    "import plotly.express as px\n",
    "\n",
    "# Load job descriptions\n",
    "df = pd.read_csv(\"jobs.csv\")\n",
    "df[\"Job_Description\"] = df[\"Job_Description\"].astype(str)\n",
    "\n",
    "# Extract skills\n",
    "all_skills = []\n",
    "for desc in df[\"Job_Description\"]:\n",
    "    skills_match = re.search(\n",
    "        r\"SKILLS\\s*:\\s*(.*?)(?:\\.|QUALIFICATIONS:|RESPONSIBILITIES:|LOCATION:|PAY:|APPLICATION DEADLINE:|JOB ID:|$)\",\n",
    "        desc, re.IGNORECASE | re.DOTALL\n",
    "    )\n",
    "    skills = skills_match.group(1).strip() if skills_match else \"\"\n",
    "    all_skills.append(skills)\n",
    "\n",
    "# Add extracted skills to dataframe\n",
    "df[\"Extracted_Skills\"] = all_skills\n",
    "\n",
    "# Prepare for plotting\n",
    "skill_records = []\n",
    "for idx, row in df.iterrows():\n",
    "    job_id = f\"Job {idx+1}\"\n",
    "    skills = [s.strip().lower() for s in re.split(r\",|;\", row[\"Extracted_Skills\"]) if s.strip()]\n",
    "    freq = Counter(skills)\n",
    "    for skill, count in freq.items():\n",
    "        skill_records.append({\"Job\": job_id, \"Skill\": skill, \"Count\": count})\n",
    "\n",
    "skill_df = pd.DataFrame(skill_records)\n",
    "\n",
    "# Plot using Plotly\n",
    "fig = px.bar(\n",
    "    skill_df,\n",
    "    x=\"Skill\",\n",
    "    y=\"Count\",\n",
    "    color=\"Job\",\n",
    "    barmode=\"group\",\n",
    "    title=\"Skill Frequency per Job (Extracted from CSV)\",\n",
    "    hover_data=[\"Job\", \"Count\"],\n",
    "    labels={\"Skill\": \"Skill\", \"Count\": \"Frequency\"}\n",
    ")\n",
    "fig.update_layout(xaxis_tickangle=45, height=600)\n",
    "fig.show()\n"
   ]
  },
  {
   "cell_type": "code",
   "execution_count": 8,
   "id": "5bd502a8",
   "metadata": {},
   "outputs": [
    {
     "data": {
      "application/vnd.plotly.v1+json": {
       "config": {
        "plotlyServerURL": "https://plot.ly"
       },
       "data": [
        {
         "domain": {
          "x": [
           0,
           0.45
          ],
          "y": [
           0.88,
           1
          ]
         },
         "labels": [
          "llms via apis",
          "understanding of application of dense vector",
          "text embedding models for finding semantic similarity",
          "nosql",
          "vector database",
          "graph construction",
          "aws",
          "azure",
          "python",
          "data visualization",
          "matplotlib",
          "plotly",
          "power bi",
          "infrastructure as code"
         ],
         "name": "Job 1",
         "type": "pie",
         "values": [
          1,
          1,
          1,
          1,
          1,
          1,
          1,
          1,
          1,
          1,
          1,
          1,
          1,
          1
         ]
        },
        {
         "domain": {
          "x": [
           0.55,
           1
          ],
          "y": [
           0.88,
           1
          ]
         },
         "labels": [
          "machine learning",
          "deep learning",
          "python",
          "sql",
          "mathematics",
          "english",
          "presentation",
          "documentation"
         ],
         "name": "Job 2",
         "type": "pie",
         "values": [
          1,
          1,
          1,
          1,
          1,
          1,
          1,
          1
         ]
        },
        {
         "domain": {
          "x": [
           0,
           0.45
          ],
          "y": [
           0.66,
           0.78
          ]
         },
         "labels": [
          "none"
         ],
         "name": "Job 3",
         "type": "pie",
         "values": [
          1
         ]
        },
        {
         "domain": {
          "x": [
           0.55,
           1
          ],
          "y": [
           0.66,
           0.78
          ]
         },
         "labels": [
          "ms excel",
          "pivot tables",
          "database",
          "access",
          "sql",
          "tableau",
          "comparable",
          "data analytics tools"
         ],
         "name": "Job 4",
         "type": "pie",
         "values": [
          1,
          1,
          1,
          1,
          1,
          1,
          1,
          1
         ]
        },
        {
         "domain": {
          "x": [
           0,
           0.45
          ],
          "y": [
           0.44,
           0.56
          ]
         },
         "labels": [
          "building marketing models",
          "regression analysis",
          "anomaly detection",
          "nlp",
          "machine learning modeling",
          "decision tree",
          "clustering",
          "ensemble",
          "boosting methods",
          "feature selection",
          "sql",
          "python",
          "pandas",
          "numpy",
          "scikit-learn",
          "keras",
          "r",
          "developing data pipelines",
          "python-based etl framework",
          "run workflows",
          "analyse requirements",
          "project roadmap to ensure consistent data availability",
          "data quality",
          "data accessibility",
          "conceive and implement the design of end-to-end scripted analytics solutions using sql",
          "modern analytical system",
          "snowflake",
          "github",
          "aws",
          "jupyter notebooks"
         ],
         "name": "Job 5",
         "type": "pie",
         "values": [
          1,
          1,
          1,
          1,
          1,
          1,
          1,
          1,
          1,
          1,
          1,
          1,
          1,
          1,
          1,
          1,
          1,
          1,
          1,
          1,
          1,
          1,
          1,
          1,
          1,
          1,
          1,
          1,
          1,
          1
         ]
        },
        {
         "domain": {
          "x": [
           0.55,
           1
          ],
          "y": [
           0.44,
           0.56
          ]
         },
         "labels": [
          "data analysi",
          "statistical techniques",
          "data visualization tools",
          "tableau",
          "power bi",
          "microsoft excel",
          "database management and querying languages",
          "sql"
         ],
         "name": "Job 6",
         "type": "pie",
         "values": [
          1,
          1,
          1,
          1,
          1,
          1,
          1,
          1
         ]
        },
        {
         "domain": {
          "x": [
           0,
           0.45
          ],
          "y": [
           0.22,
           0.33999999999999997
          ]
         },
         "labels": [
          "none"
         ],
         "name": "Job 7",
         "type": "pie",
         "values": [
          1
         ]
        },
        {
         "domain": {
          "x": [
           0.55,
           1
          ],
          "y": [
           0.22,
           0.33999999999999997
          ]
         },
         "labels": [
          "data science",
          "data analytics",
          "statistical analysis",
          "thermodynamics",
          "thermal systems"
         ],
         "name": "Job 8",
         "type": "pie",
         "values": [
          1,
          1,
          1,
          1,
          1
         ]
        },
        {
         "domain": {
          "x": [
           0,
           0.45
          ],
          "y": [
           0,
           0.12
          ]
         },
         "labels": [
          "data science"
         ],
         "name": "Job 9",
         "type": "pie",
         "values": [
          1
         ]
        },
        {
         "domain": {
          "x": [
           0.55,
           1
          ],
          "y": [
           0,
           0.12
          ]
         },
         "labels": [
          "none"
         ],
         "name": "Job 10",
         "type": "pie",
         "values": [
          1
         ]
        }
       ],
       "layout": {
        "annotations": [
         {
          "font": {
           "size": 16
          },
          "showarrow": false,
          "text": "Job 1",
          "x": 0.225,
          "xanchor": "center",
          "xref": "paper",
          "y": 1,
          "yanchor": "bottom",
          "yref": "paper"
         },
         {
          "font": {
           "size": 16
          },
          "showarrow": false,
          "text": "Job 2",
          "x": 0.775,
          "xanchor": "center",
          "xref": "paper",
          "y": 1,
          "yanchor": "bottom",
          "yref": "paper"
         },
         {
          "font": {
           "size": 16
          },
          "showarrow": false,
          "text": "Job 3",
          "x": 0.225,
          "xanchor": "center",
          "xref": "paper",
          "y": 0.78,
          "yanchor": "bottom",
          "yref": "paper"
         },
         {
          "font": {
           "size": 16
          },
          "showarrow": false,
          "text": "Job 4",
          "x": 0.775,
          "xanchor": "center",
          "xref": "paper",
          "y": 0.78,
          "yanchor": "bottom",
          "yref": "paper"
         },
         {
          "font": {
           "size": 16
          },
          "showarrow": false,
          "text": "Job 5",
          "x": 0.225,
          "xanchor": "center",
          "xref": "paper",
          "y": 0.56,
          "yanchor": "bottom",
          "yref": "paper"
         },
         {
          "font": {
           "size": 16
          },
          "showarrow": false,
          "text": "Job 6",
          "x": 0.775,
          "xanchor": "center",
          "xref": "paper",
          "y": 0.56,
          "yanchor": "bottom",
          "yref": "paper"
         },
         {
          "font": {
           "size": 16
          },
          "showarrow": false,
          "text": "Job 7",
          "x": 0.225,
          "xanchor": "center",
          "xref": "paper",
          "y": 0.33999999999999997,
          "yanchor": "bottom",
          "yref": "paper"
         },
         {
          "font": {
           "size": 16
          },
          "showarrow": false,
          "text": "Job 8",
          "x": 0.775,
          "xanchor": "center",
          "xref": "paper",
          "y": 0.33999999999999997,
          "yanchor": "bottom",
          "yref": "paper"
         },
         {
          "font": {
           "size": 16
          },
          "showarrow": false,
          "text": "Job 9",
          "x": 0.225,
          "xanchor": "center",
          "xref": "paper",
          "y": 0.12,
          "yanchor": "bottom",
          "yref": "paper"
         },
         {
          "font": {
           "size": 16
          },
          "showarrow": false,
          "text": "Job 10",
          "x": 0.775,
          "xanchor": "center",
          "xref": "paper",
          "y": 0.12,
          "yanchor": "bottom",
          "yref": "paper"
         }
        ],
        "height": 1500,
        "template": {
         "data": {
          "bar": [
           {
            "error_x": {
             "color": "#2a3f5f"
            },
            "error_y": {
             "color": "#2a3f5f"
            },
            "marker": {
             "line": {
              "color": "#E5ECF6",
              "width": 0.5
             },
             "pattern": {
              "fillmode": "overlay",
              "size": 10,
              "solidity": 0.2
             }
            },
            "type": "bar"
           }
          ],
          "barpolar": [
           {
            "marker": {
             "line": {
              "color": "#E5ECF6",
              "width": 0.5
             },
             "pattern": {
              "fillmode": "overlay",
              "size": 10,
              "solidity": 0.2
             }
            },
            "type": "barpolar"
           }
          ],
          "carpet": [
           {
            "aaxis": {
             "endlinecolor": "#2a3f5f",
             "gridcolor": "white",
             "linecolor": "white",
             "minorgridcolor": "white",
             "startlinecolor": "#2a3f5f"
            },
            "baxis": {
             "endlinecolor": "#2a3f5f",
             "gridcolor": "white",
             "linecolor": "white",
             "minorgridcolor": "white",
             "startlinecolor": "#2a3f5f"
            },
            "type": "carpet"
           }
          ],
          "choropleth": [
           {
            "colorbar": {
             "outlinewidth": 0,
             "ticks": ""
            },
            "type": "choropleth"
           }
          ],
          "contour": [
           {
            "colorbar": {
             "outlinewidth": 0,
             "ticks": ""
            },
            "colorscale": [
             [
              0,
              "#0d0887"
             ],
             [
              0.1111111111111111,
              "#46039f"
             ],
             [
              0.2222222222222222,
              "#7201a8"
             ],
             [
              0.3333333333333333,
              "#9c179e"
             ],
             [
              0.4444444444444444,
              "#bd3786"
             ],
             [
              0.5555555555555556,
              "#d8576b"
             ],
             [
              0.6666666666666666,
              "#ed7953"
             ],
             [
              0.7777777777777778,
              "#fb9f3a"
             ],
             [
              0.8888888888888888,
              "#fdca26"
             ],
             [
              1,
              "#f0f921"
             ]
            ],
            "type": "contour"
           }
          ],
          "contourcarpet": [
           {
            "colorbar": {
             "outlinewidth": 0,
             "ticks": ""
            },
            "type": "contourcarpet"
           }
          ],
          "heatmap": [
           {
            "colorbar": {
             "outlinewidth": 0,
             "ticks": ""
            },
            "colorscale": [
             [
              0,
              "#0d0887"
             ],
             [
              0.1111111111111111,
              "#46039f"
             ],
             [
              0.2222222222222222,
              "#7201a8"
             ],
             [
              0.3333333333333333,
              "#9c179e"
             ],
             [
              0.4444444444444444,
              "#bd3786"
             ],
             [
              0.5555555555555556,
              "#d8576b"
             ],
             [
              0.6666666666666666,
              "#ed7953"
             ],
             [
              0.7777777777777778,
              "#fb9f3a"
             ],
             [
              0.8888888888888888,
              "#fdca26"
             ],
             [
              1,
              "#f0f921"
             ]
            ],
            "type": "heatmap"
           }
          ],
          "histogram": [
           {
            "marker": {
             "pattern": {
              "fillmode": "overlay",
              "size": 10,
              "solidity": 0.2
             }
            },
            "type": "histogram"
           }
          ],
          "histogram2d": [
           {
            "colorbar": {
             "outlinewidth": 0,
             "ticks": ""
            },
            "colorscale": [
             [
              0,
              "#0d0887"
             ],
             [
              0.1111111111111111,
              "#46039f"
             ],
             [
              0.2222222222222222,
              "#7201a8"
             ],
             [
              0.3333333333333333,
              "#9c179e"
             ],
             [
              0.4444444444444444,
              "#bd3786"
             ],
             [
              0.5555555555555556,
              "#d8576b"
             ],
             [
              0.6666666666666666,
              "#ed7953"
             ],
             [
              0.7777777777777778,
              "#fb9f3a"
             ],
             [
              0.8888888888888888,
              "#fdca26"
             ],
             [
              1,
              "#f0f921"
             ]
            ],
            "type": "histogram2d"
           }
          ],
          "histogram2dcontour": [
           {
            "colorbar": {
             "outlinewidth": 0,
             "ticks": ""
            },
            "colorscale": [
             [
              0,
              "#0d0887"
             ],
             [
              0.1111111111111111,
              "#46039f"
             ],
             [
              0.2222222222222222,
              "#7201a8"
             ],
             [
              0.3333333333333333,
              "#9c179e"
             ],
             [
              0.4444444444444444,
              "#bd3786"
             ],
             [
              0.5555555555555556,
              "#d8576b"
             ],
             [
              0.6666666666666666,
              "#ed7953"
             ],
             [
              0.7777777777777778,
              "#fb9f3a"
             ],
             [
              0.8888888888888888,
              "#fdca26"
             ],
             [
              1,
              "#f0f921"
             ]
            ],
            "type": "histogram2dcontour"
           }
          ],
          "mesh3d": [
           {
            "colorbar": {
             "outlinewidth": 0,
             "ticks": ""
            },
            "type": "mesh3d"
           }
          ],
          "parcoords": [
           {
            "line": {
             "colorbar": {
              "outlinewidth": 0,
              "ticks": ""
             }
            },
            "type": "parcoords"
           }
          ],
          "pie": [
           {
            "automargin": true,
            "type": "pie"
           }
          ],
          "scatter": [
           {
            "fillpattern": {
             "fillmode": "overlay",
             "size": 10,
             "solidity": 0.2
            },
            "type": "scatter"
           }
          ],
          "scatter3d": [
           {
            "line": {
             "colorbar": {
              "outlinewidth": 0,
              "ticks": ""
             }
            },
            "marker": {
             "colorbar": {
              "outlinewidth": 0,
              "ticks": ""
             }
            },
            "type": "scatter3d"
           }
          ],
          "scattercarpet": [
           {
            "marker": {
             "colorbar": {
              "outlinewidth": 0,
              "ticks": ""
             }
            },
            "type": "scattercarpet"
           }
          ],
          "scattergeo": [
           {
            "marker": {
             "colorbar": {
              "outlinewidth": 0,
              "ticks": ""
             }
            },
            "type": "scattergeo"
           }
          ],
          "scattergl": [
           {
            "marker": {
             "colorbar": {
              "outlinewidth": 0,
              "ticks": ""
             }
            },
            "type": "scattergl"
           }
          ],
          "scattermap": [
           {
            "marker": {
             "colorbar": {
              "outlinewidth": 0,
              "ticks": ""
             }
            },
            "type": "scattermap"
           }
          ],
          "scattermapbox": [
           {
            "marker": {
             "colorbar": {
              "outlinewidth": 0,
              "ticks": ""
             }
            },
            "type": "scattermapbox"
           }
          ],
          "scatterpolar": [
           {
            "marker": {
             "colorbar": {
              "outlinewidth": 0,
              "ticks": ""
             }
            },
            "type": "scatterpolar"
           }
          ],
          "scatterpolargl": [
           {
            "marker": {
             "colorbar": {
              "outlinewidth": 0,
              "ticks": ""
             }
            },
            "type": "scatterpolargl"
           }
          ],
          "scatterternary": [
           {
            "marker": {
             "colorbar": {
              "outlinewidth": 0,
              "ticks": ""
             }
            },
            "type": "scatterternary"
           }
          ],
          "surface": [
           {
            "colorbar": {
             "outlinewidth": 0,
             "ticks": ""
            },
            "colorscale": [
             [
              0,
              "#0d0887"
             ],
             [
              0.1111111111111111,
              "#46039f"
             ],
             [
              0.2222222222222222,
              "#7201a8"
             ],
             [
              0.3333333333333333,
              "#9c179e"
             ],
             [
              0.4444444444444444,
              "#bd3786"
             ],
             [
              0.5555555555555556,
              "#d8576b"
             ],
             [
              0.6666666666666666,
              "#ed7953"
             ],
             [
              0.7777777777777778,
              "#fb9f3a"
             ],
             [
              0.8888888888888888,
              "#fdca26"
             ],
             [
              1,
              "#f0f921"
             ]
            ],
            "type": "surface"
           }
          ],
          "table": [
           {
            "cells": {
             "fill": {
              "color": "#EBF0F8"
             },
             "line": {
              "color": "white"
             }
            },
            "header": {
             "fill": {
              "color": "#C8D4E3"
             },
             "line": {
              "color": "white"
             }
            },
            "type": "table"
           }
          ]
         },
         "layout": {
          "annotationdefaults": {
           "arrowcolor": "#2a3f5f",
           "arrowhead": 0,
           "arrowwidth": 1
          },
          "autotypenumbers": "strict",
          "coloraxis": {
           "colorbar": {
            "outlinewidth": 0,
            "ticks": ""
           }
          },
          "colorscale": {
           "diverging": [
            [
             0,
             "#8e0152"
            ],
            [
             0.1,
             "#c51b7d"
            ],
            [
             0.2,
             "#de77ae"
            ],
            [
             0.3,
             "#f1b6da"
            ],
            [
             0.4,
             "#fde0ef"
            ],
            [
             0.5,
             "#f7f7f7"
            ],
            [
             0.6,
             "#e6f5d0"
            ],
            [
             0.7,
             "#b8e186"
            ],
            [
             0.8,
             "#7fbc41"
            ],
            [
             0.9,
             "#4d9221"
            ],
            [
             1,
             "#276419"
            ]
           ],
           "sequential": [
            [
             0,
             "#0d0887"
            ],
            [
             0.1111111111111111,
             "#46039f"
            ],
            [
             0.2222222222222222,
             "#7201a8"
            ],
            [
             0.3333333333333333,
             "#9c179e"
            ],
            [
             0.4444444444444444,
             "#bd3786"
            ],
            [
             0.5555555555555556,
             "#d8576b"
            ],
            [
             0.6666666666666666,
             "#ed7953"
            ],
            [
             0.7777777777777778,
             "#fb9f3a"
            ],
            [
             0.8888888888888888,
             "#fdca26"
            ],
            [
             1,
             "#f0f921"
            ]
           ],
           "sequentialminus": [
            [
             0,
             "#0d0887"
            ],
            [
             0.1111111111111111,
             "#46039f"
            ],
            [
             0.2222222222222222,
             "#7201a8"
            ],
            [
             0.3333333333333333,
             "#9c179e"
            ],
            [
             0.4444444444444444,
             "#bd3786"
            ],
            [
             0.5555555555555556,
             "#d8576b"
            ],
            [
             0.6666666666666666,
             "#ed7953"
            ],
            [
             0.7777777777777778,
             "#fb9f3a"
            ],
            [
             0.8888888888888888,
             "#fdca26"
            ],
            [
             1,
             "#f0f921"
            ]
           ]
          },
          "colorway": [
           "#636efa",
           "#EF553B",
           "#00cc96",
           "#ab63fa",
           "#FFA15A",
           "#19d3f3",
           "#FF6692",
           "#B6E880",
           "#FF97FF",
           "#FECB52"
          ],
          "font": {
           "color": "#2a3f5f"
          },
          "geo": {
           "bgcolor": "white",
           "lakecolor": "white",
           "landcolor": "#E5ECF6",
           "showlakes": true,
           "showland": true,
           "subunitcolor": "white"
          },
          "hoverlabel": {
           "align": "left"
          },
          "hovermode": "closest",
          "mapbox": {
           "style": "light"
          },
          "paper_bgcolor": "white",
          "plot_bgcolor": "#E5ECF6",
          "polar": {
           "angularaxis": {
            "gridcolor": "white",
            "linecolor": "white",
            "ticks": ""
           },
           "bgcolor": "#E5ECF6",
           "radialaxis": {
            "gridcolor": "white",
            "linecolor": "white",
            "ticks": ""
           }
          },
          "scene": {
           "xaxis": {
            "backgroundcolor": "#E5ECF6",
            "gridcolor": "white",
            "gridwidth": 2,
            "linecolor": "white",
            "showbackground": true,
            "ticks": "",
            "zerolinecolor": "white"
           },
           "yaxis": {
            "backgroundcolor": "#E5ECF6",
            "gridcolor": "white",
            "gridwidth": 2,
            "linecolor": "white",
            "showbackground": true,
            "ticks": "",
            "zerolinecolor": "white"
           },
           "zaxis": {
            "backgroundcolor": "#E5ECF6",
            "gridcolor": "white",
            "gridwidth": 2,
            "linecolor": "white",
            "showbackground": true,
            "ticks": "",
            "zerolinecolor": "white"
           }
          },
          "shapedefaults": {
           "line": {
            "color": "#2a3f5f"
           }
          },
          "ternary": {
           "aaxis": {
            "gridcolor": "white",
            "linecolor": "white",
            "ticks": ""
           },
           "baxis": {
            "gridcolor": "white",
            "linecolor": "white",
            "ticks": ""
           },
           "bgcolor": "#E5ECF6",
           "caxis": {
            "gridcolor": "white",
            "linecolor": "white",
            "ticks": ""
           }
          },
          "title": {
           "x": 0.05
          },
          "xaxis": {
           "automargin": true,
           "gridcolor": "white",
           "linecolor": "white",
           "ticks": "",
           "title": {
            "standoff": 15
           },
           "zerolinecolor": "white",
           "zerolinewidth": 2
          },
          "yaxis": {
           "automargin": true,
           "gridcolor": "white",
           "linecolor": "white",
           "ticks": "",
           "title": {
            "standoff": 15
           },
           "zerolinecolor": "white",
           "zerolinewidth": 2
          }
         }
        },
        "title": {
         "text": "Skill Distribution per Job (Pie Charts)"
        }
       }
      }
     },
     "metadata": {},
     "output_type": "display_data"
    }
   ],
   "source": [
    "import pandas as pd\n",
    "import re\n",
    "from collections import Counter\n",
    "import plotly.graph_objects as go\n",
    "from plotly.subplots import make_subplots\n",
    "\n",
    "# Load the job descriptions\n",
    "df = pd.read_csv(\"jobs.csv\")\n",
    "df[\"Job_Description\"] = df[\"Job_Description\"].astype(str)\n",
    "\n",
    "# Extract skills section from each job description\n",
    "all_skills = []\n",
    "for desc in df[\"Job_Description\"]:\n",
    "    skills_match = re.search(\n",
    "        r\"SKILLS\\s*:\\s*(.*?)(?:\\.|QUALIFICATIONS:|RESPONSIBILITIES:|LOCATION:|PAY:|APPLICATION DEADLINE:|JOB ID:|$)\",\n",
    "        desc, re.IGNORECASE | re.DOTALL\n",
    "    )\n",
    "    skills = skills_match.group(1).strip() if skills_match else \"\"\n",
    "    all_skills.append(skills)\n",
    "\n",
    "# Add extracted skills column\n",
    "df[\"Extracted_Skills\"] = all_skills\n",
    "\n",
    "# Create pie charts\n",
    "job_count = len(df)\n",
    "cols = 2\n",
    "rows = (job_count + 1) // cols\n",
    "\n",
    "fig = make_subplots(\n",
    "    rows=rows, cols=cols, specs=[[{'type': 'domain'}]*cols]*rows,\n",
    "    subplot_titles=[f\"Job {i+1}\" for i in range(job_count)]\n",
    ")\n",
    "\n",
    "for idx, skills in enumerate(df[\"Extracted_Skills\"]):\n",
    "    job_id = f\"Job {idx+1}\"\n",
    "    skill_list = [s.strip().lower() for s in re.split(r\",|;\", skills) if s.strip()]\n",
    "    if not skill_list:\n",
    "        continue\n",
    "    skill_freq = Counter(skill_list)\n",
    "    row = (idx // cols) + 1\n",
    "    col = (idx % cols) + 1\n",
    "    fig.add_trace(\n",
    "        go.Pie(labels=list(skill_freq.keys()), values=list(skill_freq.values()), name=job_id),\n",
    "        row=row, col=col\n",
    "    )\n",
    "\n",
    "fig.update_layout(title_text=\"Skill Distribution per Job (Pie Charts)\", height=300 * rows)\n",
    "fig.show()\n"
   ]
  },
  {
   "cell_type": "code",
   "execution_count": 11,
   "id": "df61172d",
   "metadata": {},
   "outputs": [
    {
     "data": {
      "application/vnd.plotly.v1+json": {
       "config": {
        "plotlyServerURL": "https://plot.ly"
       },
       "data": [
        {
         "domain": {
          "x": [
           0,
           0.45
          ],
          "y": [
           0.88,
           1
          ]
         },
         "labels": [
          "currently pursuing a degree in data science",
          "computer science",
          "statistics",
          "or a related fieldstrong analytical and problem-solving skills",
          "familiarity with data analysis and visualization tools",
          "must graduate december 2025 or later",
          "must continue enrollment in degree program upon completion of the co-op validated academic excellence (3",
          "0 gpa and higher)"
         ],
         "name": "Job 1",
         "type": "pie",
         "values": {
          "bdata": "AQEBAQEBAQE=",
          "dtype": "i1"
         }
        },
        {
         "domain": {
          "x": [
           0.55,
           1
          ],
          "y": [
           0.88,
           1
          ]
         },
         "labels": [
          "degree in progress"
         ],
         "name": "Job 2",
         "type": "pie",
         "values": {
          "bdata": "AQ==",
          "dtype": "i1"
         }
        },
        {
         "domain": {
          "x": [
           0,
           0.45
          ],
          "y": [
           0.66,
           0.78
          ]
         },
         "labels": [
          "none"
         ],
         "name": "Job 3",
         "type": "pie",
         "values": {
          "bdata": "AQ==",
          "dtype": "i1"
         }
        },
        {
         "domain": {
          "x": [
           0.55,
           1
          ],
          "y": [
           0.66,
           0.78
          ]
         },
         "labels": [
          "experienced",
          "sophomore",
          "junior",
          "bachelor",
          "masters degree",
          "computerscience",
          "management information systems (mis)",
          "business analytics",
          "business and technology",
          "data science or relatable degree"
         ],
         "name": "Job 4",
         "type": "pie",
         "values": {
          "bdata": "AQEBAQEBAQEBAQ==",
          "dtype": "i1"
         }
        },
        {
         "domain": {
          "x": [
           0,
           0.45
          ],
          "y": [
           0.44,
           0.56
          ]
         },
         "labels": [
          "ba",
          "msc",
          "data science",
          "business analytics",
          "computer science",
          "math",
          "statistics",
          "economics",
          "quantitative fields",
          "masters"
         ],
         "name": "Job 5",
         "type": "pie",
         "values": {
          "bdata": "AQEBAQEBAQEBAQ==",
          "dtype": "i1"
         }
        },
        {
         "domain": {
          "x": [
           0.55,
           1
          ],
          "y": [
           0.44,
           0.56
          ]
         },
         "labels": [
          "bachelors",
          "masters",
          "data science",
          "statistics",
          "computer science",
          "economics or a related field"
         ],
         "name": "Job 6",
         "type": "pie",
         "values": {
          "bdata": "AQEBAQEB",
          "dtype": "i1"
         }
        },
        {
         "domain": {
          "x": [
           0,
           0.45
          ],
          "y": [
           0.22,
           0.33999999999999997
          ]
         },
         "labels": [
          "none"
         ],
         "name": "Job 7",
         "type": "pie",
         "values": {
          "bdata": "AQ==",
          "dtype": "i1"
         }
        },
        {
         "domain": {
          "x": [
           0.55,
           1
          ],
          "y": [
           0.22,
           0.33999999999999997
          ]
         },
         "labels": [
          "bachelor in engineering",
          "data analytics engineering",
          "data science"
         ],
         "name": "Job 8",
         "type": "pie",
         "values": {
          "bdata": "AQEB",
          "dtype": "i1"
         }
        },
        {
         "domain": {
          "x": [
           0,
           0.45
          ],
          "y": [
           0,
           0.12
          ]
         },
         "labels": [
          "data science",
          "computer science",
          "related engineering",
          "bs",
          "ms",
          "phd"
         ],
         "name": "Job 9",
         "type": "pie",
         "values": {
          "bdata": "AQEBAQEB",
          "dtype": "i1"
         }
        },
        {
         "domain": {
          "x": [
           0.55,
           1
          ],
          "y": [
           0,
           0.12
          ]
         },
         "labels": [
          "bachelors",
          "preferred completion of relevant coursework in data science",
          "data analysis",
          "computational math",
          "statistics",
          "data visualization",
          "information systems"
         ],
         "name": "Job 10",
         "type": "pie",
         "values": {
          "bdata": "AQEBAQEBAQ==",
          "dtype": "i1"
         }
        }
       ],
       "layout": {
        "annotations": [
         {
          "font": {
           "size": 16
          },
          "showarrow": false,
          "text": "Job 1",
          "x": 0.225,
          "xanchor": "center",
          "xref": "paper",
          "y": 1,
          "yanchor": "bottom",
          "yref": "paper"
         },
         {
          "font": {
           "size": 16
          },
          "showarrow": false,
          "text": "Job 2",
          "x": 0.775,
          "xanchor": "center",
          "xref": "paper",
          "y": 1,
          "yanchor": "bottom",
          "yref": "paper"
         },
         {
          "font": {
           "size": 16
          },
          "showarrow": false,
          "text": "Job 3",
          "x": 0.225,
          "xanchor": "center",
          "xref": "paper",
          "y": 0.78,
          "yanchor": "bottom",
          "yref": "paper"
         },
         {
          "font": {
           "size": 16
          },
          "showarrow": false,
          "text": "Job 4",
          "x": 0.775,
          "xanchor": "center",
          "xref": "paper",
          "y": 0.78,
          "yanchor": "bottom",
          "yref": "paper"
         },
         {
          "font": {
           "size": 16
          },
          "showarrow": false,
          "text": "Job 5",
          "x": 0.225,
          "xanchor": "center",
          "xref": "paper",
          "y": 0.56,
          "yanchor": "bottom",
          "yref": "paper"
         },
         {
          "font": {
           "size": 16
          },
          "showarrow": false,
          "text": "Job 6",
          "x": 0.775,
          "xanchor": "center",
          "xref": "paper",
          "y": 0.56,
          "yanchor": "bottom",
          "yref": "paper"
         },
         {
          "font": {
           "size": 16
          },
          "showarrow": false,
          "text": "Job 7",
          "x": 0.225,
          "xanchor": "center",
          "xref": "paper",
          "y": 0.33999999999999997,
          "yanchor": "bottom",
          "yref": "paper"
         },
         {
          "font": {
           "size": 16
          },
          "showarrow": false,
          "text": "Job 8",
          "x": 0.775,
          "xanchor": "center",
          "xref": "paper",
          "y": 0.33999999999999997,
          "yanchor": "bottom",
          "yref": "paper"
         },
         {
          "font": {
           "size": 16
          },
          "showarrow": false,
          "text": "Job 9",
          "x": 0.225,
          "xanchor": "center",
          "xref": "paper",
          "y": 0.12,
          "yanchor": "bottom",
          "yref": "paper"
         },
         {
          "font": {
           "size": 16
          },
          "showarrow": false,
          "text": "Job 10",
          "x": 0.775,
          "xanchor": "center",
          "xref": "paper",
          "y": 0.12,
          "yanchor": "bottom",
          "yref": "paper"
         }
        ],
        "height": 1500,
        "template": {
         "data": {
          "bar": [
           {
            "error_x": {
             "color": "#2a3f5f"
            },
            "error_y": {
             "color": "#2a3f5f"
            },
            "marker": {
             "line": {
              "color": "#E5ECF6",
              "width": 0.5
             },
             "pattern": {
              "fillmode": "overlay",
              "size": 10,
              "solidity": 0.2
             }
            },
            "type": "bar"
           }
          ],
          "barpolar": [
           {
            "marker": {
             "line": {
              "color": "#E5ECF6",
              "width": 0.5
             },
             "pattern": {
              "fillmode": "overlay",
              "size": 10,
              "solidity": 0.2
             }
            },
            "type": "barpolar"
           }
          ],
          "carpet": [
           {
            "aaxis": {
             "endlinecolor": "#2a3f5f",
             "gridcolor": "white",
             "linecolor": "white",
             "minorgridcolor": "white",
             "startlinecolor": "#2a3f5f"
            },
            "baxis": {
             "endlinecolor": "#2a3f5f",
             "gridcolor": "white",
             "linecolor": "white",
             "minorgridcolor": "white",
             "startlinecolor": "#2a3f5f"
            },
            "type": "carpet"
           }
          ],
          "choropleth": [
           {
            "colorbar": {
             "outlinewidth": 0,
             "ticks": ""
            },
            "type": "choropleth"
           }
          ],
          "contour": [
           {
            "colorbar": {
             "outlinewidth": 0,
             "ticks": ""
            },
            "colorscale": [
             [
              0,
              "#0d0887"
             ],
             [
              0.1111111111111111,
              "#46039f"
             ],
             [
              0.2222222222222222,
              "#7201a8"
             ],
             [
              0.3333333333333333,
              "#9c179e"
             ],
             [
              0.4444444444444444,
              "#bd3786"
             ],
             [
              0.5555555555555556,
              "#d8576b"
             ],
             [
              0.6666666666666666,
              "#ed7953"
             ],
             [
              0.7777777777777778,
              "#fb9f3a"
             ],
             [
              0.8888888888888888,
              "#fdca26"
             ],
             [
              1,
              "#f0f921"
             ]
            ],
            "type": "contour"
           }
          ],
          "contourcarpet": [
           {
            "colorbar": {
             "outlinewidth": 0,
             "ticks": ""
            },
            "type": "contourcarpet"
           }
          ],
          "heatmap": [
           {
            "colorbar": {
             "outlinewidth": 0,
             "ticks": ""
            },
            "colorscale": [
             [
              0,
              "#0d0887"
             ],
             [
              0.1111111111111111,
              "#46039f"
             ],
             [
              0.2222222222222222,
              "#7201a8"
             ],
             [
              0.3333333333333333,
              "#9c179e"
             ],
             [
              0.4444444444444444,
              "#bd3786"
             ],
             [
              0.5555555555555556,
              "#d8576b"
             ],
             [
              0.6666666666666666,
              "#ed7953"
             ],
             [
              0.7777777777777778,
              "#fb9f3a"
             ],
             [
              0.8888888888888888,
              "#fdca26"
             ],
             [
              1,
              "#f0f921"
             ]
            ],
            "type": "heatmap"
           }
          ],
          "histogram": [
           {
            "marker": {
             "pattern": {
              "fillmode": "overlay",
              "size": 10,
              "solidity": 0.2
             }
            },
            "type": "histogram"
           }
          ],
          "histogram2d": [
           {
            "colorbar": {
             "outlinewidth": 0,
             "ticks": ""
            },
            "colorscale": [
             [
              0,
              "#0d0887"
             ],
             [
              0.1111111111111111,
              "#46039f"
             ],
             [
              0.2222222222222222,
              "#7201a8"
             ],
             [
              0.3333333333333333,
              "#9c179e"
             ],
             [
              0.4444444444444444,
              "#bd3786"
             ],
             [
              0.5555555555555556,
              "#d8576b"
             ],
             [
              0.6666666666666666,
              "#ed7953"
             ],
             [
              0.7777777777777778,
              "#fb9f3a"
             ],
             [
              0.8888888888888888,
              "#fdca26"
             ],
             [
              1,
              "#f0f921"
             ]
            ],
            "type": "histogram2d"
           }
          ],
          "histogram2dcontour": [
           {
            "colorbar": {
             "outlinewidth": 0,
             "ticks": ""
            },
            "colorscale": [
             [
              0,
              "#0d0887"
             ],
             [
              0.1111111111111111,
              "#46039f"
             ],
             [
              0.2222222222222222,
              "#7201a8"
             ],
             [
              0.3333333333333333,
              "#9c179e"
             ],
             [
              0.4444444444444444,
              "#bd3786"
             ],
             [
              0.5555555555555556,
              "#d8576b"
             ],
             [
              0.6666666666666666,
              "#ed7953"
             ],
             [
              0.7777777777777778,
              "#fb9f3a"
             ],
             [
              0.8888888888888888,
              "#fdca26"
             ],
             [
              1,
              "#f0f921"
             ]
            ],
            "type": "histogram2dcontour"
           }
          ],
          "mesh3d": [
           {
            "colorbar": {
             "outlinewidth": 0,
             "ticks": ""
            },
            "type": "mesh3d"
           }
          ],
          "parcoords": [
           {
            "line": {
             "colorbar": {
              "outlinewidth": 0,
              "ticks": ""
             }
            },
            "type": "parcoords"
           }
          ],
          "pie": [
           {
            "automargin": true,
            "type": "pie"
           }
          ],
          "scatter": [
           {
            "fillpattern": {
             "fillmode": "overlay",
             "size": 10,
             "solidity": 0.2
            },
            "type": "scatter"
           }
          ],
          "scatter3d": [
           {
            "line": {
             "colorbar": {
              "outlinewidth": 0,
              "ticks": ""
             }
            },
            "marker": {
             "colorbar": {
              "outlinewidth": 0,
              "ticks": ""
             }
            },
            "type": "scatter3d"
           }
          ],
          "scattercarpet": [
           {
            "marker": {
             "colorbar": {
              "outlinewidth": 0,
              "ticks": ""
             }
            },
            "type": "scattercarpet"
           }
          ],
          "scattergeo": [
           {
            "marker": {
             "colorbar": {
              "outlinewidth": 0,
              "ticks": ""
             }
            },
            "type": "scattergeo"
           }
          ],
          "scattergl": [
           {
            "marker": {
             "colorbar": {
              "outlinewidth": 0,
              "ticks": ""
             }
            },
            "type": "scattergl"
           }
          ],
          "scattermap": [
           {
            "marker": {
             "colorbar": {
              "outlinewidth": 0,
              "ticks": ""
             }
            },
            "type": "scattermap"
           }
          ],
          "scattermapbox": [
           {
            "marker": {
             "colorbar": {
              "outlinewidth": 0,
              "ticks": ""
             }
            },
            "type": "scattermapbox"
           }
          ],
          "scatterpolar": [
           {
            "marker": {
             "colorbar": {
              "outlinewidth": 0,
              "ticks": ""
             }
            },
            "type": "scatterpolar"
           }
          ],
          "scatterpolargl": [
           {
            "marker": {
             "colorbar": {
              "outlinewidth": 0,
              "ticks": ""
             }
            },
            "type": "scatterpolargl"
           }
          ],
          "scatterternary": [
           {
            "marker": {
             "colorbar": {
              "outlinewidth": 0,
              "ticks": ""
             }
            },
            "type": "scatterternary"
           }
          ],
          "surface": [
           {
            "colorbar": {
             "outlinewidth": 0,
             "ticks": ""
            },
            "colorscale": [
             [
              0,
              "#0d0887"
             ],
             [
              0.1111111111111111,
              "#46039f"
             ],
             [
              0.2222222222222222,
              "#7201a8"
             ],
             [
              0.3333333333333333,
              "#9c179e"
             ],
             [
              0.4444444444444444,
              "#bd3786"
             ],
             [
              0.5555555555555556,
              "#d8576b"
             ],
             [
              0.6666666666666666,
              "#ed7953"
             ],
             [
              0.7777777777777778,
              "#fb9f3a"
             ],
             [
              0.8888888888888888,
              "#fdca26"
             ],
             [
              1,
              "#f0f921"
             ]
            ],
            "type": "surface"
           }
          ],
          "table": [
           {
            "cells": {
             "fill": {
              "color": "#EBF0F8"
             },
             "line": {
              "color": "white"
             }
            },
            "header": {
             "fill": {
              "color": "#C8D4E3"
             },
             "line": {
              "color": "white"
             }
            },
            "type": "table"
           }
          ]
         },
         "layout": {
          "annotationdefaults": {
           "arrowcolor": "#2a3f5f",
           "arrowhead": 0,
           "arrowwidth": 1
          },
          "autotypenumbers": "strict",
          "coloraxis": {
           "colorbar": {
            "outlinewidth": 0,
            "ticks": ""
           }
          },
          "colorscale": {
           "diverging": [
            [
             0,
             "#8e0152"
            ],
            [
             0.1,
             "#c51b7d"
            ],
            [
             0.2,
             "#de77ae"
            ],
            [
             0.3,
             "#f1b6da"
            ],
            [
             0.4,
             "#fde0ef"
            ],
            [
             0.5,
             "#f7f7f7"
            ],
            [
             0.6,
             "#e6f5d0"
            ],
            [
             0.7,
             "#b8e186"
            ],
            [
             0.8,
             "#7fbc41"
            ],
            [
             0.9,
             "#4d9221"
            ],
            [
             1,
             "#276419"
            ]
           ],
           "sequential": [
            [
             0,
             "#0d0887"
            ],
            [
             0.1111111111111111,
             "#46039f"
            ],
            [
             0.2222222222222222,
             "#7201a8"
            ],
            [
             0.3333333333333333,
             "#9c179e"
            ],
            [
             0.4444444444444444,
             "#bd3786"
            ],
            [
             0.5555555555555556,
             "#d8576b"
            ],
            [
             0.6666666666666666,
             "#ed7953"
            ],
            [
             0.7777777777777778,
             "#fb9f3a"
            ],
            [
             0.8888888888888888,
             "#fdca26"
            ],
            [
             1,
             "#f0f921"
            ]
           ],
           "sequentialminus": [
            [
             0,
             "#0d0887"
            ],
            [
             0.1111111111111111,
             "#46039f"
            ],
            [
             0.2222222222222222,
             "#7201a8"
            ],
            [
             0.3333333333333333,
             "#9c179e"
            ],
            [
             0.4444444444444444,
             "#bd3786"
            ],
            [
             0.5555555555555556,
             "#d8576b"
            ],
            [
             0.6666666666666666,
             "#ed7953"
            ],
            [
             0.7777777777777778,
             "#fb9f3a"
            ],
            [
             0.8888888888888888,
             "#fdca26"
            ],
            [
             1,
             "#f0f921"
            ]
           ]
          },
          "colorway": [
           "#636efa",
           "#EF553B",
           "#00cc96",
           "#ab63fa",
           "#FFA15A",
           "#19d3f3",
           "#FF6692",
           "#B6E880",
           "#FF97FF",
           "#FECB52"
          ],
          "font": {
           "color": "#2a3f5f"
          },
          "geo": {
           "bgcolor": "white",
           "lakecolor": "white",
           "landcolor": "#E5ECF6",
           "showlakes": true,
           "showland": true,
           "subunitcolor": "white"
          },
          "hoverlabel": {
           "align": "left"
          },
          "hovermode": "closest",
          "mapbox": {
           "style": "light"
          },
          "paper_bgcolor": "white",
          "plot_bgcolor": "#E5ECF6",
          "polar": {
           "angularaxis": {
            "gridcolor": "white",
            "linecolor": "white",
            "ticks": ""
           },
           "bgcolor": "#E5ECF6",
           "radialaxis": {
            "gridcolor": "white",
            "linecolor": "white",
            "ticks": ""
           }
          },
          "scene": {
           "xaxis": {
            "backgroundcolor": "#E5ECF6",
            "gridcolor": "white",
            "gridwidth": 2,
            "linecolor": "white",
            "showbackground": true,
            "ticks": "",
            "zerolinecolor": "white"
           },
           "yaxis": {
            "backgroundcolor": "#E5ECF6",
            "gridcolor": "white",
            "gridwidth": 2,
            "linecolor": "white",
            "showbackground": true,
            "ticks": "",
            "zerolinecolor": "white"
           },
           "zaxis": {
            "backgroundcolor": "#E5ECF6",
            "gridcolor": "white",
            "gridwidth": 2,
            "linecolor": "white",
            "showbackground": true,
            "ticks": "",
            "zerolinecolor": "white"
           }
          },
          "shapedefaults": {
           "line": {
            "color": "#2a3f5f"
           }
          },
          "ternary": {
           "aaxis": {
            "gridcolor": "white",
            "linecolor": "white",
            "ticks": ""
           },
           "baxis": {
            "gridcolor": "white",
            "linecolor": "white",
            "ticks": ""
           },
           "bgcolor": "#E5ECF6",
           "caxis": {
            "gridcolor": "white",
            "linecolor": "white",
            "ticks": ""
           }
          },
          "title": {
           "x": 0.05
          },
          "xaxis": {
           "automargin": true,
           "gridcolor": "white",
           "linecolor": "white",
           "ticks": "",
           "title": {
            "standoff": 15
           },
           "zerolinecolor": "white",
           "zerolinewidth": 2
          },
          "yaxis": {
           "automargin": true,
           "gridcolor": "white",
           "linecolor": "white",
           "ticks": "",
           "title": {
            "standoff": 15
           },
           "zerolinecolor": "white",
           "zerolinewidth": 2
          }
         }
        },
        "title": {
         "text": "Qualification Distribution per Job"
        }
       }
      }
     },
     "metadata": {},
     "output_type": "display_data"
    }
   ],
   "source": [
    "import pandas as pd\n",
    "import re\n",
    "import plotly.graph_objects as go\n",
    "from plotly.subplots import make_subplots\n",
    "\n",
    "# Load job descriptions\n",
    "df = pd.read_csv(\"jobs.csv\")\n",
    "df[\"Job_Description\"] = df[\"Job_Description\"].astype(str)\n",
    "\n",
    "# Extract qualifications\n",
    "qualifications_list = []\n",
    "for desc in df[\"Job_Description\"]:\n",
    "    match = re.search(r\"(?:MINIMUM QUALIFICATIONS:|QUALIFICATIONS:)(.*?)(?:SKILLS:|RESPONSIBILITIES:|LOCATION:|PAY:|APPLICATION DEADLINE:|JOB ID:|$)\",\n",
    "                      desc, re.IGNORECASE | re.DOTALL)\n",
    "    qualifications = match.group(1).strip().lower() if match else \"none\"\n",
    "    qualifications_list.append(qualifications)\n",
    "\n",
    "# Create a DataFrame for qualifications\n",
    "qual_df = pd.DataFrame({\n",
    "    \"Job\": [f\"Job {i+1}\" for i in range(len(df))],\n",
    "    \"Qualifications\": qualifications_list\n",
    "})\n",
    "\n",
    "# Break down the qualification text into separate keywords\n",
    "qual_keywords = []\n",
    "for i, row in qual_df.iterrows():\n",
    "    items = re.split(r\"[,\\.\\n]\", row[\"Qualifications\"])\n",
    "    for item in items:\n",
    "        clean_item = item.strip()\n",
    "        if clean_item:\n",
    "            qual_keywords.append({\"Job\": row[\"Job\"], \"Qualification\": clean_item})\n",
    "\n",
    "qual_keyword_df = pd.DataFrame(qual_keywords)\n",
    "\n",
    "# Pie chart setup\n",
    "jobs = qual_keyword_df[\"Job\"].unique()\n",
    "rows = (len(jobs) + 1) // 2\n",
    "fig = make_subplots(rows=rows, cols=2, specs=[[{'type': 'domain'}]*2]*rows,\n",
    "                    subplot_titles=jobs)\n",
    "\n",
    "# Add pie charts\n",
    "for idx, job in enumerate(jobs):\n",
    "    row = (idx // 2) + 1\n",
    "    col = (idx % 2) + 1\n",
    "    job_data = qual_keyword_df[qual_keyword_df[\"Job\"] == job]\n",
    "    count_data = job_data[\"Qualification\"].value_counts()\n",
    "    fig.add_trace(go.Pie(labels=count_data.index, values=count_data.values, name=job),\n",
    "                  row=row, col=col)\n",
    "\n",
    "# Layout\n",
    "fig.update_layout(title_text=\"Qualification Distribution per Job\", height=300 * rows)\n",
    "fig.show()\n"
   ]
  }
 ],
 "metadata": {
  "kernelspec": {
   "display_name": ".venv",
   "language": "python",
   "name": "python3"
  },
  "language_info": {
   "codemirror_mode": {
    "name": "ipython",
    "version": 3
   },
   "file_extension": ".py",
   "mimetype": "text/x-python",
   "name": "python",
   "nbconvert_exporter": "python",
   "pygments_lexer": "ipython3",
   "version": "3.12.8"
  }
 },
 "nbformat": 4,
 "nbformat_minor": 5
}
